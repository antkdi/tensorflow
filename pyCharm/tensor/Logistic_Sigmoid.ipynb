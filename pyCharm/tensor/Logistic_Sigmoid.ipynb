{
 "cells": [
  {
   "cell_type": "markdown",
   "metadata": {},
   "source": [
    "### 로지스틱 회귀\n",
    "> 일반적인 선형회귀로 풀수 없는 지도학습 중 하나인 '분류' 문제를 해결하기 위한 알고리즘\n",
    "> 활성화 함수로 시그모이드 함수를 사용한다.\n",
    "> "
   ]
  },
  {
   "cell_type": "code",
   "execution_count": 14,
   "metadata": {},
   "outputs": [
    {
     "name": "stdout",
     "output_type": "stream",
     "text": [
      "Extracting ../mnist/train-images-idx3-ubyte.gz\n",
      "Extracting ../mnist/train-labels-idx1-ubyte.gz\n",
      "Extracting ../mnist/t10k-images-idx3-ubyte.gz\n",
      "Extracting ../mnist/t10k-labels-idx1-ubyte.gz\n",
      "WARNING:tensorflow:From <ipython-input-14-1f2ea0b3c55d>:58: initialize_all_variables (from tensorflow.python.ops.variables) is deprecated and will be removed after 2017-03-02.\n",
      "Instructions for updating:\n",
      "Use `tf.global_variables_initializer` instead.\n",
      "Epoch: 0001 cost= 1.174406662\n",
      "Epoch: 0002 cost= 0.661961771\n",
      "Epoch: 0003 cost= 0.550479427\n",
      "Epoch: 0004 cost= 0.496727534\n",
      "Epoch: 0005 cost= 0.463699739\n",
      "Epoch: 0006 cost= 0.440824241\n",
      "Epoch: 0007 cost= 0.423898390\n",
      "Epoch: 0008 cost= 0.410591180\n",
      "Epoch: 0009 cost= 0.399882070\n",
      "Epoch: 0010 cost= 0.390926550\n",
      "Epoch: 0011 cost= 0.383350126\n",
      "Epoch: 0012 cost= 0.376758833\n",
      "Epoch: 0013 cost= 0.371010472\n",
      "Epoch: 0014 cost= 0.365936794\n",
      "Epoch: 0015 cost= 0.361384122\n",
      "Epoch: 0016 cost= 0.357272247\n",
      "Epoch: 0017 cost= 0.353554923\n",
      "Epoch: 0018 cost= 0.350088185\n",
      "Epoch: 0019 cost= 0.347031046\n",
      "Epoch: 0020 cost= 0.344179152\n",
      "Epoch: 0021 cost= 0.341420337\n",
      "Epoch: 0022 cost= 0.338996688\n",
      "Epoch: 0023 cost= 0.336667450\n",
      "Epoch: 0024 cost= 0.334440362\n",
      "Epoch: 0025 cost= 0.332434435\n",
      "Training phase finished\n"
     ]
    },
    {
     "data": {
      "image/png": "[encoded data removed]",
      "text/plain": [
       "<matplotlib.figure.Figure at 0x120d556a0>"
      ]
     },
     "metadata": {},
     "output_type": "display_data"
    },
    {
     "name": "stdout",
     "output_type": "stream",
     "text": [
      "Model accuracy: 0.9136\n"
     ]
    }
   ],
   "source": [
    "import input_data\n",
    "import tensorflow as tf\n",
    "import matplotlib.pyplot as plt\n",
    "\n",
    "mnist = input_data.read_data_sets(\"../mnist/\", one_hot=True)\n",
    "\n",
    "\n",
    "## 매개변수 생성\n",
    "training_epochs = 25\n",
    "\n",
    "learning_rate = 0.01\n",
    "batch_size = 100\n",
    "display_step =1\n",
    "\n",
    "# 모델 생성\n",
    "\n",
    "# 픽셀 데이터를 저장할 텐서 선언 28 * 28 의 크기를 갖는 이미지\n",
    "x = tf.placeholder(\"float\",[None,784])\n",
    "\n",
    "# 10개의 확률 값을 저장할 텐서 선언  - 모든 확률 값의 합은 1이 되어야 한다\n",
    "y = tf.placeholder(\"float\",[None,10])\n",
    "\n",
    "# 각 이미지에 확률값을 구하기 위해 활성함수 사용 ( 소프트맥스 )\n",
    "# 소프트맥스는 특정이미지에 대한 근거를 계산, 근거를 10가지 후보 클래스에 해당하는 확률로 변환\n",
    "# 28*28 인 이미지가 10개인 변수\n",
    "# 근거를 평가 하기 위해 텐서 가중치를 선언 \n",
    "W = tf.Variable(tf.zeros([784,10]))\n",
    "\n",
    "# 주어진 이미지에 대해 각 클래스마다 입력 텐서 x 에 W를 곱함으로 근거를 평가 ( 가중치 )\n",
    "#evidence = tf.matmul(x,W)\n",
    "\n",
    "# 근거를 정의하기 위해 편향 텐서를 정의\n",
    "b = tf.Variable(tf.zeros([10]))\n",
    "\n",
    "# 일반적으로 모델은 불확실성 정도를 의미하는 편향에 대한 별도의 매개변수를 갖는다 ( 편향 - 바이어스)\n",
    "evidence = tf.matmul(x,W) + b\n",
    "\n",
    "\n",
    "\n",
    "# 확률 값을 갖는 출력벡터를 얻기위해 소프트 맥스를 사용 ( 활성함수라 명명)\n",
    "activation = tf.nn.softmax(tf.matmul(x,W)+b)\n",
    "\n",
    "# 모델의 성능 정도를 판단할 방법을 정해야한다\n",
    "# 목표는 모델의 나쁜 정도를 나타내는 매티륵 값이 최소가 되는 매개변수 W와 b의 값을 얻고자 하는것이다.\n",
    "\n",
    "# cross-entropy error 함수를 사용할 것이다.\n",
    "cross_entropy = y * tf.log(activation)\n",
    "\n",
    "#Cost\n",
    "cost = tf.reduce_mean(-tf.reduce_sum(cross_entropy, reduction_indices=1))\n",
    "\n",
    "#경사 하강법을 이용해 비용 최소하\n",
    "optimizer = tf.train.GradientDescentOptimizer(learning_rate).minimize(cost)\n",
    "\n",
    "avg_set =[]\n",
    "epoch_set =[]\n",
    "\n",
    "init = tf.initialize_all_variables()\n",
    "\n",
    "## 세션 시작\n",
    "with tf.Session() as sess:\n",
    "    sess.run(init)\n",
    "    \n",
    "    #학습주기\n",
    "    for epoch in range(training_epochs):\n",
    "        avg_cost =0.\n",
    "        total_batch = int(mnist.train.num_examples/batch_size)\n",
    "        \n",
    "        #모든 배치에 대해 반복\n",
    "        for i in range(total_batch):\n",
    "            batch_xs,batch_ys = mnist.train.next_batch(batch_size)\n",
    "            sess.run(optimizer, feed_dict={x:batch_xs, y:batch_ys})\n",
    "            avg_cost += sess.run(cost, feed_dict={x:batch_xs, y:batch_ys})/total_batch\n",
    "            \n",
    "        # 각 반복 단계마다 로그 출력\n",
    "        if epoch % display_step ==0:\n",
    "            print (\"Epoch:\", '%04d' % (epoch+1), \"cost=\", \"{:.9f}\".format(avg_cost))\n",
    "    \n",
    "        avg_set.append(avg_cost)\n",
    "        epoch_set.append(epoch+1)\n",
    "                \n",
    "        \n",
    "    print (\"Training phase finished\")\n",
    "    plt.plot(epoch_set,avg_set, 'o', label='Logistic Regression Traninng phase')\n",
    "    plt.ylabel('cost')\n",
    "    plt.xlabel('epoch')\n",
    "    plt.legend()\n",
    "    plt.show()\n",
    "        \n",
    "    correct_prediction = tf.equal(tf.argmax(activation,1),tf.argmax(y,1))\n",
    "        \n",
    "    accuracy = tf.reduce_mean(tf.cast(correct_prediction,\"float\"))\n",
    "    print (\"Model accuracy:\", accuracy.eval({ x:mnist.test.images, y:mnist.test.labels}))\n",
    "        \n",
    "        \n",
    "                \n",
    "\n",
    "\n"
   ]
  },
  {
   "cell_type": "markdown",
   "metadata": {},
   "source": [
    "# 실전 예제\n",
    "#### "
   ]
  },
  {
   "cell_type": "code",
   "execution_count": null,
   "metadata": {
    "collapsed": true
   },
   "outputs": [],
   "source": []
  }
 ],
 "metadata": {
  "kernelspec": {
   "display_name": "Python 3",
   "language": "python",
   "name": "python3"
  },
  "language_info": {
   "codemirror_mode": {
    "name": "ipython",
    "version": 3
   },
   "file_extension": ".py",
   "mimetype": "text/x-python",
   "name": "python",
   "nbconvert_exporter": "python",
   "pygments_lexer": "ipython3",
   "version": "3.6.1"
  }
 },
 "nbformat": 4,
 "nbformat_minor": 2
}
