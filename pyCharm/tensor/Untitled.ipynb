{
 "cells": [
  {
   "cell_type": "code",
   "execution_count": 6,
   "metadata": {},
   "outputs": [
    {
     "name": "stdout",
     "output_type": "stream",
     "text": [
      "Addition with variables: 5\n",
      "Multiplication with variables: 6\n"
     ]
    }
   ],
   "source": [
    "import tensorflow as tf\n",
    "\n",
    "a = tf.placeholder(tf.int16)\n",
    "b = tf.placeholder(tf.int16)\n",
    "\n",
    "# Define some operations\n",
    "add = tf.add(a, b)\n",
    "mul = tf.multiply(a, b)\n",
    "\n",
    "with tf.Session() as sess:\n",
    "    print (\"Addition with variables: %i\" % sess.run(add, feed_dict={a:2, b:3}))\n",
    "    print (\"Multiplication with variables: %d\" % sess.run(mul, feed_dict={a:2, b:3}))\n",
    "\n",
    "\n"
   ]
  },
  {
   "cell_type": "code",
   "execution_count": 8,
   "metadata": {},
   "outputs": [
    {
     "name": "stdout",
     "output_type": "stream",
     "text": [
      "WARNING:tensorflow:From <ipython-input-8-b9eb3c5fa28f>:25: initialize_all_variables (from tensorflow.python.ops.variables) is deprecated and will be removed after 2017-03-02.\n",
      "Instructions for updating:\n",
      "Use `tf.global_variables_initializer` instead.\n",
      "0 0.164772 [ 1.23811221] [-0.11989033]\n",
      "100 3.91282e-05 [ 1.00726509] [-0.01651528]\n",
      "200 3.01224e-07 [ 1.00063753] [-0.00144907]\n",
      "300 2.31996e-09 [ 1.00005591] [-0.0001271]\n",
      "400 1.83806e-11 [ 1.00000501] [ -1.12432654e-05]\n",
      "500 1.71714e-13 [ 1.00000048] [ -1.00716125e-06]\n",
      "600 3.78956e-14 [ 1.00000036] [ -6.25691371e-07]\n",
      "700 3.78956e-14 [ 1.00000036] [ -6.25691371e-07]\n",
      "800 3.78956e-14 [ 1.00000036] [ -6.25691371e-07]\n",
      "900 3.78956e-14 [ 1.00000036] [ -6.25691371e-07]\n",
      "1000 3.78956e-14 [ 1.00000036] [ -6.25691371e-07]\n",
      "1100 3.78956e-14 [ 1.00000036] [ -6.25691371e-07]\n",
      "1200 3.78956e-14 [ 1.00000036] [ -6.25691371e-07]\n",
      "1300 3.78956e-14 [ 1.00000036] [ -6.25691371e-07]\n",
      "1400 3.78956e-14 [ 1.00000036] [ -6.25691371e-07]\n",
      "1500 3.78956e-14 [ 1.00000036] [ -6.25691371e-07]\n",
      "1600 3.78956e-14 [ 1.00000036] [ -6.25691371e-07]\n",
      "1700 3.78956e-14 [ 1.00000036] [ -6.25691371e-07]\n",
      "1800 3.78956e-14 [ 1.00000036] [ -6.25691371e-07]\n",
      "1900 3.78956e-14 [ 1.00000036] [ -6.25691371e-07]\n",
      "2000 3.78956e-14 [ 1.00000036] [ -6.25691371e-07]\n"
     ]
    }
   ],
   "source": [
    "import tensorflow as tf\n",
    "\n",
    "x_data = [1,2,3]\n",
    "y_data = [1,2,3]\n",
    "\n",
    "# Try to find values for W and b taht compute y_data = W * x_data + b\n",
    "# (We know that W should be 1 and b 0, but Tensorflow will figure that out for us.)\n",
    "\n",
    "W = tf.Variable(tf.random_uniform([1], -1.0, 1.0))\n",
    "b = tf.Variable(tf.random_uniform([1], -1.0, 1.0))\n",
    "\n",
    "# Our hypothesis\n",
    "hypothesis = W * x_data + b\n",
    "\n",
    "# Simplified cost function\n",
    "cost = tf.reduce_mean(tf.square(hypothesis-y_data))\n",
    "\n",
    "# Minimize\n",
    "a = tf.Variable(0.1) # Learning rate, alpha\n",
    "optimizer = tf.train.GradientDescentOptimizer(a)\n",
    "train = optimizer.minimize(cost)\n",
    "\n",
    "# Before starting, initialize the variables.\n",
    "# We are going to run this first.\n",
    "init = tf.initialize_all_variables()\n",
    "\n",
    "# Launch the graph\n",
    "sess = tf.Session()\n",
    "sess.run(init)\n",
    "\n",
    "# Fit the line.\n",
    "for step in range(2001):\n",
    "    sess.run(train)\n",
    "    if step % 100 == 0 :\n",
    "        print (step, sess.run(cost), sess.run(W), sess.run(b))"
   ]
  },
  {
   "cell_type": "code",
   "execution_count": null,
   "metadata": {
    "collapsed": true
   },
   "outputs": [],
   "source": []
  }
 ],
 "metadata": {
  "kernelspec": {
   "display_name": "Python 3",
   "language": "python",
   "name": "python3"
  },
  "language_info": {
   "codemirror_mode": {
    "name": "ipython",
    "version": 3
   },
   "file_extension": ".py",
   "mimetype": "text/x-python",
   "name": "python",
   "nbconvert_exporter": "python",
   "pygments_lexer": "ipython3",
   "version": "3.6.1"
  }
 },
 "nbformat": 4,
 "nbformat_minor": 2
}
