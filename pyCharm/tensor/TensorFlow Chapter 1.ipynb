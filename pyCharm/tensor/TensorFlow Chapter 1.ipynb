{
 "cells": [
  {
   "cell_type": "markdown",
   "metadata": {},
   "source": [
    "### Tensorflow 변수"
   ]
  },
  {
   "cell_type": "code",
   "execution_count": 5,
   "metadata": {
    "scrolled": true
   },
   "outputs": [
    {
     "name": "stdout",
     "output_type": "stream",
     "text": [
      "5\n"
     ]
    }
   ],
   "source": [
    "myvar =3\n",
    "myvar += 2\n",
    "print (myvar)"
   ]
  },
  {
   "cell_type": "markdown",
   "metadata": {},
   "source": [
    "### TensorFlow 동작 확인"
   ]
  },
  {
   "cell_type": "code",
   "execution_count": 4,
   "metadata": {},
   "outputs": [
    {
     "name": "stdout",
     "output_type": "stream",
     "text": [
      "b'hello TensorFlow!'\n"
     ]
    }
   ],
   "source": [
    "import tensorflow as tf\n",
    "hello = tf.constant(\"hello TensorFlow!\")\n",
    "sess = tf.Session()\n",
    "\n",
    "print(sess.run(hello))"
   ]
  },
  {
   "cell_type": "markdown",
   "metadata": {},
   "source": [
    "### 세션작업"
   ]
  },
  {
   "cell_type": "code",
   "execution_count": 3,
   "metadata": {},
   "outputs": [
    {
     "name": "stdout",
     "output_type": "stream",
     "text": [
      "10\n",
      "Tensor(\"x_1:0\", shape=(), dtype=int32)\n",
      "<tf.Variable 'y_2:0' shape=() dtype=int32_ref>\n"
     ]
    }
   ],
   "source": [
    "x = 1\n",
    "y = x+9\n",
    "print(y)\n",
    "\n",
    "import tensorflow as tf\n",
    "x = tf.constant(1,name='x')\n",
    "y = tf.Variable(x+9,name='y')\n",
    "print(x)\n",
    "print(y)\n"
   ]
  },
  {
   "cell_type": "markdown",
   "metadata": {},
   "source": [
    "#### 상수 x 를 선언하고 값을 할당\n",
    "#### 변수 y 를 선언하고 y=x+9 로 수식을 정의 한다.\n",
    "#### 출력은 되지만 출력 결과가 연산되어서 출력되지 않는다.\n",
    "#### 이유는 값과 수식을 정의만 했을뿐 연산하지는 않았기 때문 Lazy Load ?"
   ]
  },
  {
   "cell_type": "code",
   "execution_count": 5,
   "metadata": {},
   "outputs": [
    {
     "name": "stdout",
     "output_type": "stream",
     "text": [
      "10\n",
      "10\n"
     ]
    }
   ],
   "source": [
    "#model = tf.initialize_all_variables() // deprecated\n",
    "model = tf.global_variables_initializer()\n",
    "\n",
    "#세션 실행하는 두가지 방법\n",
    "#1\n",
    "sess = tf.Session()\n",
    "sess.run(model)\n",
    "print(sess.run(y))\n",
    "\n",
    "#2\n",
    "with tf.Session() as session:\n",
    "    session.run(model)\n",
    "    print(session.run(y))\n",
    "\n",
    "    \n",
    "### 변수간의 의존성을 나타내는 데이터 플로우 그래프가 Session 내부에 생성되고\n",
    "### y변수는 x변수에 연관되어 있으며, y는 x에 9를 더하는 규칙으로 변형된다\n",
    "### 이 값은 Session이 실행되기 전까지는 연산되지 않는다."
   ]
  },
  {
   "cell_type": "markdown",
   "metadata": {},
   "source": [
    "\n",
    "## 데이터 플로우 그래프\n",
    "### 노드\n",
    "- 텐서플로에서 노드는 명령어에 대한 인스턴스 이다. 각 명령어는 >= 입력 값과 >= 0 출력값을 가진다\n",
    "- 텐서플로에서 에지는 일반에지와 특수에지로 구성\n",
    "    - 일반 에지의 입력값은 텐서이며, 하나의 명령어에 대한 출력 값은 다른 명령어의 입력값이 된다.\n",
    "    - 특수에지는 두 노드 간의 제어 의존성을 정의한다 A,B 두 개의 특수 에지가 있고 A 에서 B로 연결되어 있다고 가정했을때\n",
    "    - A의 연산이 종료되어야만 B의 연산이 수행 될수 있음을 의미한다. 즉, 텐서 연산의 우선순위를 정의한다."
   ]
  },
  {
   "cell_type": "code",
   "execution_count": 17,
   "metadata": {},
   "outputs": [
    {
     "name": "stdout",
     "output_type": "stream",
     "text": [
      "10\n"
     ]
    }
   ],
   "source": [
    "##텐서플로 프로그래밍 모델\n",
    "## 프로그래밍 모델을 텐서플로에 적합하게 구성해야한다.\n",
    "import tensorflow as tf\n",
    "\n",
    "##연산에 사용되는 a와 b를 플레이스홀더로 명명된 기본 자료구조로 정의\n",
    "## placeholder 는 데이터가 없더라도 명령어와 그래프를 정의할 수 있게 한다\n",
    "a = tf.placeholder(\"int32\")\n",
    "b = tf.placeholder(\"int32\")\n",
    "\n",
    "## mul 함수로 변수들을 사용\n",
    "##y = tf.mul(a,b) ##mul 함수는 곱셈  // deprecated\n",
    "y = tf.multiply(a,b)\n",
    "sess = tf.Session()\n",
    "\n",
    "## a와 b에 입력될 값을 넣고 연산한후 결과를 출력\n",
    "print(sess.run(y,feed_dict={a:2,b:5}))"
   ]
  },
  {
   "cell_type": "markdown",
   "metadata": {},
   "source": [
    "## 텐서보드 사용법"
   ]
  },
  {
   "cell_type": "code",
   "execution_count": 6,
   "metadata": {},
   "outputs": [
    {
     "name": "stdout",
     "output_type": "stream",
     "text": [
      "190\n"
     ]
    }
   ],
   "source": [
    "import tensorflow as tf\n",
    "\n",
    "a = tf.constant(10,name=\"a\")\n",
    "b = tf.constant(90,name=\"b\")\n",
    "y = tf.Variable(a+b*2,name=\"y\")\n",
    "model = tf.global_variables_initializer()\n",
    "\n",
    "with tf.Session() as session:\n",
    "    merged = tf.summary.merge_all()\n",
    "    writer = tf.summary.FileWriter(\"/tmp/tensorflowlogs\",session.graph)\n",
    "    session.run(model)\n",
    "    print(session.run(y))"
   ]
  },
  {
   "cell_type": "code",
   "execution_count": null,
   "metadata": {
    "collapsed": true
   },
   "outputs": [],
   "source": []
  }
 ],
 "metadata": {
  "kernelspec": {
   "display_name": "Python 3",
   "language": "python",
   "name": "python3"
  },
  "language_info": {
   "codemirror_mode": {
    "name": "ipython",
    "version": 3
   },
   "file_extension": ".py",
   "mimetype": "text/x-python",
   "name": "python",
   "nbconvert_exporter": "python",
   "pygments_lexer": "ipython3",
   "version": "3.6.1"
  }
 },
 "nbformat": 4,
 "nbformat_minor": 2
}
