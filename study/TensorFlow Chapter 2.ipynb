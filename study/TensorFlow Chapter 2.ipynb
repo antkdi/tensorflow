{
 "cells": [
  {
   "cell_type": "markdown",
   "metadata": {},
   "source": [
    "### 텐서플로 기초연산\n",
    "rank 텐서플로의 차원\n",
    "shape 텐서의 행과 열\n",
    "type 텐서의 데이터 형식\n",
    "\n",
    "##### 텐서를 만드는 방법\n",
    "    - Numpy 등을 이용해 N차원 배열생성\n",
    "    - N차원 배열을 텐서플로 텐서로 변환\n",
    "\n",
    "\n"
   ]
  },
  {
   "cell_type": "code",
   "execution_count": 1,
   "metadata": {},
   "outputs": [
    {
     "name": "stdout",
     "output_type": "stream",
     "text": [
      "[  1.3    1.     4.    23.99]\n"
     ]
    }
   ],
   "source": [
    "import numpy as np\n",
    "\n",
    "## Numpy lib 이용해서 배열 생성\n",
    "tensor_1d = np.array([1.3,1,4.0,23.99])\n",
    "print(tensor_1d)"
   ]
  },
  {
   "cell_type": "code",
   "execution_count": 2,
   "metadata": {},
   "outputs": [
    {
     "name": "stdout",
     "output_type": "stream",
     "text": [
      "1.3\n"
     ]
    }
   ],
   "source": [
    "#배열접근\n",
    "print(tensor_1d[0])"
   ]
  },
  {
   "cell_type": "code",
   "execution_count": 3,
   "metadata": {},
   "outputs": [
    {
     "data": {
      "text/plain": [
       "1"
      ]
     },
     "execution_count": 3,
     "metadata": {},
     "output_type": "execute_result"
    }
   ],
   "source": [
    "#rank 조회\n",
    "tensor_1d.ndim"
   ]
  },
  {
   "cell_type": "code",
   "execution_count": 4,
   "metadata": {},
   "outputs": [
    {
     "data": {
      "text/plain": [
       "(4,)"
      ]
     },
     "execution_count": 4,
     "metadata": {},
     "output_type": "execute_result"
    }
   ],
   "source": [
    "#튜플 조회\n",
    "tensor_1d.shape"
   ]
  },
  {
   "cell_type": "code",
   "execution_count": 5,
   "metadata": {},
   "outputs": [
    {
     "data": {
      "text/plain": [
       "dtype('float64')"
      ]
     },
     "execution_count": 5,
     "metadata": {},
     "output_type": "execute_result"
    }
   ],
   "source": [
    "# 데이터형 조회\n",
    "tensor_1d.dtype"
   ]
  },
  {
   "cell_type": "code",
   "execution_count": 6,
   "metadata": {},
   "outputs": [
    {
     "name": "stdout",
     "output_type": "stream",
     "text": [
      "[  1.3    1.     4.    23.99]\n",
      "1.3\n",
      "1.0\n"
     ]
    }
   ],
   "source": [
    "\n",
    "import tensorflow as tf\n",
    "\n",
    "#텐서로 변환\n",
    "tf_tensor = tf.convert_to_tensor(tensor_1d,dtype=tf.float64)\n",
    "\n",
    "with tf.Session() as sess:\n",
    "    print(sess.run(tf_tensor))\n",
    "    print(sess.run(tf_tensor[0]))\n",
    "    print(sess.run(tf_tensor[1]))"
   ]
  },
  {
   "cell_type": "markdown",
   "metadata": {},
   "source": [
    "### 2차원 텐서"
   ]
  },
  {
   "cell_type": "code",
   "execution_count": 20,
   "metadata": {},
   "outputs": [
    {
     "name": "stdout",
     "output_type": "stream",
     "text": [
      "[[ 1  2  3  4]\n",
      " [ 4  5  6  7]\n",
      " [ 8  9 10 11]]\n",
      "[[ 1  2  3  4]\n",
      " [ 4  5  6  7]\n",
      " [ 8  9 10 11]]\n",
      "5\n",
      "11\n",
      "[[ 1  2  3]\n",
      " [ 4  5  6]\n",
      " [ 8  9 10]]\n"
     ]
    }
   ],
   "source": [
    "import numpy as np\n",
    "\n",
    "#2차원 배열 생성 \n",
    "tensor_2d = np.array([(1,2,3,4),(4,5,6,7),(8,9,10,11)])\n",
    "tensor_2d_2 = np.array([[1,2,3,4],[4,5,6,7],[8,9,10,11]])\n",
    "print(tensor_2d)\n",
    "print(tensor_2d_2)\n",
    "\n",
    "#Element 확인\n",
    "print(tensor_2d[1,1])\n",
    "print(tensor_2d[2,3])\n",
    "print(tensor_2d[0:3,0:3]) # 0~3,0~3 "
   ]
  },
  {
   "cell_type": "code",
   "execution_count": 23,
   "metadata": {},
   "outputs": [
    {
     "name": "stdout",
     "output_type": "stream",
     "text": [
      "m1 =\n",
      "[[2 2 2]\n",
      " [2 2 2]\n",
      " [2 2 2]]\n",
      "m2 =\n",
      "[[1 1 1]\n",
      " [1 1 1]\n",
      " [1 1 1]]\n"
     ]
    }
   ],
   "source": [
    "#텐서 다루기\n",
    "import numpy as np\n",
    "\n",
    "m1 = np.array([[2,2,2],[2,2,2],[2,2,2]],dtype='int32')\n",
    "m2 = np.array([[1,1,1],[1,1,1],[1,1,1]],dtype='int32')\n",
    "\n",
    "print(\"m1 =\")\n",
    "print(m1)\n",
    "print(\"m2 =\")\n",
    "print(m2)"
   ]
  },
  {
   "cell_type": "code",
   "execution_count": 24,
   "metadata": {},
   "outputs": [
    {
     "name": "stdout",
     "output_type": "stream",
     "text": [
      "m3 =\n",
      "[[ 2.  7.  2.]\n",
      " [ 1.  4.  2.]\n",
      " [ 9.  0.  2.]]\n",
      "m1 * m2= \n",
      "[[6 6 6]\n",
      " [6 6 6]\n",
      " [6 6 6]]\n",
      "m1 + m2 =\n",
      "[[3 3 3]\n",
      " [3 3 3]\n",
      " [3 3 3]]\n",
      "m3 determinant result =\n",
      "56.0\n"
     ]
    }
   ],
   "source": [
    "tfm1 = tf.constant(m1)\n",
    "tfm2 = tf.constant(m2)\n",
    "\n",
    "# 곱\n",
    "mProduct = tf.matmul(tfm1,tfm2)\n",
    "# 덧셈\n",
    "mSum = tf.add(tfm1,tfm2)\n",
    "\n",
    "#행렬식\n",
    "m3 = np.array([[2,7,2],[1,4,2],[9,0,2]],dtype='float32')\n",
    "\n",
    "print(\"m3 =\")\n",
    "print(m3)\n",
    "\n",
    "tfm3 = tf.matrix_determinant(m3)\n",
    "\n",
    "with tf.Session() as sess:\n",
    "    result1 = sess.run(mProduct)\n",
    "    result2 = sess.run(mSum)\n",
    "    result3 = sess.run(tfm3)\n",
    "\n",
    "#행렬 곱 \n",
    "print(\"m1 * m2= \")\n",
    "print(result1)\n",
    "\n",
    "#행렬 덧셈\n",
    "print(\"m1 + m2 =\")\n",
    "print(result2)\n",
    "\n",
    "## 뭔지모름 찾아볼것\n",
    "print(\"m3 determinant result =\")\n",
    "print(result3)"
   ]
  },
  {
   "cell_type": "markdown",
   "metadata": {},
   "source": [
    "### 3차원 텐서"
   ]
  },
  {
   "cell_type": "markdown",
   "metadata": {},
   "source": [
    "# import numpy as np\n",
    "tensor_3d = np.array([[[1,2],[3,4]],[[5,6],[7,8]]])\n",
    "print(tensor_3d)\n",
    "\n",
    "tensor_3d.shape"
   ]
  },
  {
   "cell_type": "code",
   "execution_count": 34,
   "metadata": {},
   "outputs": [
    {
     "name": "stdout",
     "output_type": "stream",
     "text": [
      "2\n",
      "4\n",
      "8\n"
     ]
    }
   ],
   "source": [
    "#tensor_3d[plane,row,col]\n",
    "print(tensor_3d[0,0,1])\n",
    "print(tensor_3d[0,1,1])\n",
    "print(tensor_3d[1,1,1])"
   ]
  },
  {
   "cell_type": "markdown",
   "metadata": {},
   "source": [
    "### Tensorflow로 이미지를 불러오고 슬라이스해서 이미지의 일부분을 추출 해보자"
   ]
  },
  {
   "cell_type": "code",
   "execution_count": null,
   "metadata": {
    "collapsed": true
   },
   "outputs": [],
   "source": [
    "import matplotlib.image as mp_image\n",
    "filename = \"packt.jped\"\n",
    "## ... 다음 사람이 하자."
   ]
  }
 ],
 "metadata": {
  "kernelspec": {
   "display_name": "Python 3",
   "language": "python",
   "name": "python3"
  },
  "language_info": {
   "codemirror_mode": {
    "name": "ipython",
    "version": 3
   },
   "file_extension": ".py",
   "mimetype": "text/x-python",
   "name": "python",
   "nbconvert_exporter": "python",
   "pygments_lexer": "ipython3",
   "version": "3.6.1"
  }
 },
 "nbformat": 4,
 "nbformat_minor": 2
}
